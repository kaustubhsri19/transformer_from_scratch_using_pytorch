{
 "cells": [
  {
   "cell_type": "code",
   "execution_count": null,
   "id": "95fa2712",
   "metadata": {},
   "outputs": [],
   "source": [
    "import torch\n",
    "import torch.nm"
   ]
  },
  {
   "cell_type": "code",
   "execution_count": null,
   "id": "a9df1828",
   "metadata": {
    "vscode": {
     "languageId": "plaintext"
    }
   },
   "outputs": [],
   "source": []
  }
 ],
 "metadata": {
  "language_info": {
   "name": "python"
  }
 },
 "nbformat": 4,
 "nbformat_minor": 5
}
